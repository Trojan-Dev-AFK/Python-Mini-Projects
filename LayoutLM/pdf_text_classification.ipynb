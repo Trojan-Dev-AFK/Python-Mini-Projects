{
 "cells": [
  {
   "attachments": {},
   "cell_type": "markdown",
   "metadata": {},
   "source": [
    "## Text Classification using LayoutLM"
   ]
  },
  {
   "cell_type": "code",
   "execution_count": 1,
   "metadata": {},
   "outputs": [
    {
     "name": "stderr",
     "output_type": "stream",
     "text": [
      "d:\\Development\\Python-Mini-Projects\\LayoutLM\\venv\\lib\\site-packages\\tqdm\\auto.py:22: TqdmWarning: IProgress not found. Please update jupyter and ipywidgets. See https://ipywidgets.readthedocs.io/en/stable/user_install.html\n",
      "  from .autonotebook import tqdm as notebook_tqdm\n",
      "Some weights of the model checkpoint at microsoft/layoutlm-base-uncased were not used when initializing LayoutLMForTokenClassification: ['cls.predictions.bias', 'cls.predictions.decoder.bias', 'cls.predictions.transform.dense.bias', 'cls.predictions.transform.dense.weight', 'cls.predictions.transform.LayerNorm.bias', 'cls.predictions.decoder.weight', 'cls.predictions.transform.LayerNorm.weight']\n",
      "- This IS expected if you are initializing LayoutLMForTokenClassification from the checkpoint of a model trained on another task or with another architecture (e.g. initializing a BertForSequenceClassification model from a BertForPreTraining model).\n",
      "- This IS NOT expected if you are initializing LayoutLMForTokenClassification from the checkpoint of a model that you expect to be exactly identical (initializing a BertForSequenceClassification model from a BertForSequenceClassification model).\n",
      "Some weights of LayoutLMForTokenClassification were not initialized from the model checkpoint at microsoft/layoutlm-base-uncased and are newly initialized: ['classifier.weight', 'classifier.bias']\n",
      "You should probably TRAIN this model on a down-stream task to be able to use it for predictions and inference.\n"
     ]
    }
   ],
   "source": [
    "# Import dependencies\n",
    "import torch\n",
    "from transformers import LayoutLMForTokenClassification, LayoutLMConfig, LayoutLMTokenizer\n",
    "import pdfplumber\n",
    "import base64\n",
    "\n",
    "# Load LayoutLM model and tokenizer\n",
    "model_name_or_path = \"microsoft/layoutlm-base-uncased\"\n",
    "config = LayoutLMConfig.from_pretrained(model_name_or_path)\n",
    "tokenizer = LayoutLMTokenizer.from_pretrained(model_name_or_path)\n",
    "model = LayoutLMForTokenClassification.from_pretrained(model_name_or_path, config=config)\n",
    "\n",
    "# Set device\n",
    "device = torch.device(\"cuda\" if torch.cuda.is_available() else \"cpu\")\n",
    "model.to(device)\n",
    "\n",
    "# Define heading labels\n",
    "heading_labels = ['B-H', 'I-H']\n",
    "\n",
    "# Define dictionary to store text\n",
    "text_dict = {}"
   ]
  },
  {
   "cell_type": "code",
   "execution_count": null,
   "metadata": {},
   "outputs": [],
   "source": [
    "# Load PDF file\n",
    "pdf_file_path = \"./Data/pdf/test_pdf_page_1.pdf\" # Give a single page of the entire pdf as input and check\n",
    "with pdfplumber.open(pdf_file_path) as pdf:\n",
    "    # Loop through pages\n",
    "    for page in pdf.pages:\n",
    "        # Extract image\n",
    "        img = page.to_image(resolution=150)\n",
    "\n",
    "        # Convert image to bytes\n",
    "        img_bytes = img.original.convert('RGB').tobytes()\n",
    "        img_bytes = base64.b64encode(img_bytes).decode('utf-8')\n",
    "\n",
    "\n",
    "        # Tokenize image\n",
    "        input_ids = tokenizer.encode(img_bytes, return_tensors=\"pt\").to(device)\n",
    "\n",
    "        # Get model predictions\n",
    "        with torch.no_grad():\n",
    "            outputs = model(input_ids=input_ids)[0].argmax(2)[0]\n",
    "\n",
    "        # Convert predictions to tokens\n",
    "        tokens = tokenizer.convert_ids_to_tokens(input_ids[0])\n",
    "\n",
    "        # Extract text and heading labels\n",
    "        current_heading = ''\n",
    "        current_text = ''\n",
    "        for i in range(1, len(tokens)):\n",
    "            if tokens[i][:2] in heading_labels:\n",
    "                # If a new heading is found, add the previous text to the dictionary\n",
    "                if current_heading != '':\n",
    "                    text_dict[current_heading] = current_text\n",
    "                # Update the current heading and reset the current text\n",
    "                current_heading = tokens[i][2:]\n",
    "                current_text = ''\n",
    "            else:\n",
    "                # If the current token is not a heading, add it to the current text\n",
    "                current_text += tokens[i] + ' '\n",
    "\n",
    "        # Add the last heading and text to the dictionary\n",
    "        if current_heading != '':\n",
    "            text_dict[current_heading] = current_text.strip()\n",
    "\n",
    "# Print the dictionary\n",
    "print(text_dict)\n"
   ]
  }
 ],
 "metadata": {
  "kernelspec": {
   "display_name": "venv",
   "language": "python",
   "name": "python3"
  },
  "language_info": {
   "codemirror_mode": {
    "name": "ipython",
    "version": 3
   },
   "file_extension": ".py",
   "mimetype": "text/x-python",
   "name": "python",
   "nbconvert_exporter": "python",
   "pygments_lexer": "ipython3",
   "version": "3.8.5"
  },
  "orig_nbformat": 4,
  "vscode": {
   "interpreter": {
    "hash": "ac6c3822dfd7dad27c6dd0b07c88c632b6b0c2321cc041102b8bd70ca4319ff9"
   }
  }
 },
 "nbformat": 4,
 "nbformat_minor": 2
}
