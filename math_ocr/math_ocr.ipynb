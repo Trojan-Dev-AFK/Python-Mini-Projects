{
 "cells": [
  {
   "cell_type": "code",
   "execution_count": 2,
   "metadata": {},
   "outputs": [
    {
     "name": "stderr",
     "output_type": "stream",
     "text": [
      "d:\\Development\\Python-Mini-Projects\\math_ocr\\venv\\lib\\site-packages\\tqdm\\auto.py:21: TqdmWarning: IProgress not found. Please update jupyter and ipywidgets. See https://ipywidgets.readthedocs.io/en/stable/user_install.html\n",
      "  from .autonotebook import tqdm as notebook_tqdm\n"
     ]
    }
   ],
   "source": [
    "from PIL import Image\n",
    "from pix2tex.cli import LatexOCR"
   ]
  },
  {
   "cell_type": "code",
   "execution_count": 11,
   "metadata": {},
   "outputs": [
    {
     "name": "stdout",
     "output_type": "stream",
     "text": [
      "\\begin{array}{r l}{{\\overline{{{E_{\\mathrm{AC}}(\\Delta\\mathbf{u})}}=\\sum_{i}w(\\mathbf{x}_{i})[I_{0}(\\mathbf{x}_{i}+\\Delta\\mathbf{u})-I_{0}(\\mathbf{x}_{i})]^{2}}}\\\\ {{\\ }}&{{=\\sum_{i}w(\\mathbf{x}_{i})[I_{0}(\\mathbf{x}_{i})+\\nabla I_{0}(\\mathbf{x}_{i})\\cdot\\Delta\\mathbf{u}-I_{0}(\\mathbf{x}_{i})]^{2}}}\\\\ {{}}&{{=\\Delta\\mathbf{u}^{T}\\mathbf{A}\\Delta\\mathbf{u},}}\\end{array}\n"
     ]
    }
   ],
   "source": [
    "img = Image.open('./sample2.png')\n",
    "model = LatexOCR()\n",
    "print(model(img))"
   ]
  },
  {
   "cell_type": "markdown",
   "metadata": {},
   "source": [
    "# Different method"
   ]
  },
  {
   "cell_type": "code",
   "execution_count": 10,
   "metadata": {},
   "outputs": [],
   "source": [
    "from PIL import Image\n",
    "import pytesseract\n",
    "import re\n",
    "from sympy import sympify\n",
    "\n",
    "# Step 1: OCR to extract text from the image\n",
    "img = Image.open('./sample.png')\n",
    "extracted_text = pytesseract.image_to_string(img)\n",
    "\n",
    "# Step 2: Parse extracted text to identify mathematical expressions\n",
    "math_expressions = re.findall(r'\\$.*?\\$', extracted_text)\n",
    "\n",
    "# Step 3: Convert identified expressions into LaTeX format\n",
    "latex_expressions = []\n",
    "for expression in math_expressions:\n",
    "    try:\n",
    "        # Use sympy to parse and convert the expression to LaTeX\n",
    "        latex_expression = sympify(expression[1:-1], locals={'sqrt': 'sqrt'}).as_latex()\n",
    "        latex_expressions.append(latex_expression)\n",
    "    except:\n",
    "        # Ignore expressions that cannot be parsed by sympy\n",
    "        pass\n",
    "\n",
    "# Print LaTeX expressions\n",
    "for latex_expr in latex_expressions:\n",
    "    print(latex_expr)\n"
   ]
  },
  {
   "cell_type": "code",
   "execution_count": null,
   "metadata": {},
   "outputs": [],
   "source": []
  }
 ],
 "metadata": {
  "kernelspec": {
   "display_name": "venv",
   "language": "python",
   "name": "python3"
  },
  "language_info": {
   "codemirror_mode": {
    "name": "ipython",
    "version": 3
   },
   "file_extension": ".py",
   "mimetype": "text/x-python",
   "name": "python",
   "nbconvert_exporter": "python",
   "pygments_lexer": "ipython3",
   "version": "3.8.5"
  }
 },
 "nbformat": 4,
 "nbformat_minor": 2
}
