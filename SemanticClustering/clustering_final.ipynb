{
 "cells": [
  {
   "cell_type": "markdown",
   "metadata": {},
   "source": [
    "# Install Dependencies"
   ]
  },
  {
   "cell_type": "code",
   "execution_count": 1,
   "metadata": {},
   "outputs": [
    {
     "name": "stdout",
     "output_type": "stream",
     "text": [
      "Requirement already satisfied: sentence-transformers in d:\\development\\python-mini-projects\\semanticclustering\\venv\\lib\\site-packages (2.2.2)\n",
      "Requirement already satisfied: tqdm in d:\\development\\python-mini-projects\\semanticclustering\\venv\\lib\\site-packages (from sentence-transformers) (4.65.0)\n",
      "Requirement already satisfied: huggingface-hub>=0.4.0 in d:\\development\\python-mini-projects\\semanticclustering\\venv\\lib\\site-packages (from sentence-transformers) (0.16.4)\n",
      "Requirement already satisfied: nltk in d:\\development\\python-mini-projects\\semanticclustering\\venv\\lib\\site-packages (from sentence-transformers) (3.8.1)\n",
      "Requirement already satisfied: torch>=1.6.0 in d:\\development\\python-mini-projects\\semanticclustering\\venv\\lib\\site-packages (from sentence-transformers) (2.0.1)\n",
      "Requirement already satisfied: sentencepiece in d:\\development\\python-mini-projects\\semanticclustering\\venv\\lib\\site-packages (from sentence-transformers) (0.1.99)\n",
      "Requirement already satisfied: torchvision in d:\\development\\python-mini-projects\\semanticclustering\\venv\\lib\\site-packages (from sentence-transformers) (0.15.2)\n",
      "Requirement already satisfied: numpy in d:\\development\\python-mini-projects\\semanticclustering\\venv\\lib\\site-packages (from sentence-transformers) (1.24.4)\n",
      "Requirement already satisfied: scikit-learn in d:\\development\\python-mini-projects\\semanticclustering\\venv\\lib\\site-packages (from sentence-transformers) (1.3.0)\n",
      "Requirement already satisfied: scipy in d:\\development\\python-mini-projects\\semanticclustering\\venv\\lib\\site-packages (from sentence-transformers) (1.10.1)\n",
      "Requirement already satisfied: transformers<5.0.0,>=4.6.0 in d:\\development\\python-mini-projects\\semanticclustering\\venv\\lib\\site-packages (from sentence-transformers) (4.30.2)\n",
      "Requirement already satisfied: requests in d:\\development\\python-mini-projects\\semanticclustering\\venv\\lib\\site-packages (from huggingface-hub>=0.4.0->sentence-transformers) (2.31.0)\n",
      "Requirement already satisfied: filelock in d:\\development\\python-mini-projects\\semanticclustering\\venv\\lib\\site-packages (from huggingface-hub>=0.4.0->sentence-transformers) (3.12.2)\n",
      "Requirement already satisfied: packaging>=20.9 in d:\\development\\python-mini-projects\\semanticclustering\\venv\\lib\\site-packages (from huggingface-hub>=0.4.0->sentence-transformers) (23.1)\n",
      "Requirement already satisfied: typing-extensions>=3.7.4.3 in d:\\development\\python-mini-projects\\semanticclustering\\venv\\lib\\site-packages (from huggingface-hub>=0.4.0->sentence-transformers) (4.7.1)\n",
      "Requirement already satisfied: pyyaml>=5.1 in d:\\development\\python-mini-projects\\semanticclustering\\venv\\lib\\site-packages (from huggingface-hub>=0.4.0->sentence-transformers) (6.0)\n",
      "Requirement already satisfied: fsspec in d:\\development\\python-mini-projects\\semanticclustering\\venv\\lib\\site-packages (from huggingface-hub>=0.4.0->sentence-transformers) (2023.6.0)\n",
      "Requirement already satisfied: jinja2 in d:\\development\\python-mini-projects\\semanticclustering\\venv\\lib\\site-packages (from torch>=1.6.0->sentence-transformers) (3.1.2)\n",
      "Requirement already satisfied: networkx in d:\\development\\python-mini-projects\\semanticclustering\\venv\\lib\\site-packages (from torch>=1.6.0->sentence-transformers) (3.1)\n",
      "Requirement already satisfied: sympy in d:\\development\\python-mini-projects\\semanticclustering\\venv\\lib\\site-packages (from torch>=1.6.0->sentence-transformers) (1.12)\n",
      "Requirement already satisfied: colorama in d:\\development\\python-mini-projects\\semanticclustering\\venv\\lib\\site-packages (from tqdm->sentence-transformers) (0.4.6)\n",
      "Requirement already satisfied: safetensors>=0.3.1 in d:\\development\\python-mini-projects\\semanticclustering\\venv\\lib\\site-packages (from transformers<5.0.0,>=4.6.0->sentence-transformers) (0.3.1)\n",
      "Requirement already satisfied: tokenizers!=0.11.3,<0.14,>=0.11.1 in d:\\development\\python-mini-projects\\semanticclustering\\venv\\lib\\site-packages (from transformers<5.0.0,>=4.6.0->sentence-transformers) (0.13.3)\n",
      "Requirement already satisfied: regex!=2019.12.17 in d:\\development\\python-mini-projects\\semanticclustering\\venv\\lib\\site-packages (from transformers<5.0.0,>=4.6.0->sentence-transformers) (2023.6.3)\n",
      "Requirement already satisfied: joblib in d:\\development\\python-mini-projects\\semanticclustering\\venv\\lib\\site-packages (from nltk->sentence-transformers) (1.3.1)\n",
      "Requirement already satisfied: click in d:\\development\\python-mini-projects\\semanticclustering\\venv\\lib\\site-packages (from nltk->sentence-transformers) (8.1.5)\n",
      "Requirement already satisfied: threadpoolctl>=2.0.0 in d:\\development\\python-mini-projects\\semanticclustering\\venv\\lib\\site-packages (from scikit-learn->sentence-transformers) (3.2.0)\n",
      "Requirement already satisfied: pillow!=8.3.*,>=5.3.0 in d:\\development\\python-mini-projects\\semanticclustering\\venv\\lib\\site-packages (from torchvision->sentence-transformers) (10.0.0)\n",
      "Requirement already satisfied: MarkupSafe>=2.0 in d:\\development\\python-mini-projects\\semanticclustering\\venv\\lib\\site-packages (from jinja2->torch>=1.6.0->sentence-transformers) (2.1.3)\n",
      "Requirement already satisfied: certifi>=2017.4.17 in d:\\development\\python-mini-projects\\semanticclustering\\venv\\lib\\site-packages (from requests->huggingface-hub>=0.4.0->sentence-transformers) (2023.5.7)\n",
      "Requirement already satisfied: idna<4,>=2.5 in d:\\development\\python-mini-projects\\semanticclustering\\venv\\lib\\site-packages (from requests->huggingface-hub>=0.4.0->sentence-transformers) (3.4)\n",
      "Requirement already satisfied: charset-normalizer<4,>=2 in d:\\development\\python-mini-projects\\semanticclustering\\venv\\lib\\site-packages (from requests->huggingface-hub>=0.4.0->sentence-transformers) (3.2.0)\n",
      "Requirement already satisfied: urllib3<3,>=1.21.1 in d:\\development\\python-mini-projects\\semanticclustering\\venv\\lib\\site-packages (from requests->huggingface-hub>=0.4.0->sentence-transformers) (2.0.3)\n",
      "Requirement already satisfied: mpmath>=0.19 in d:\\development\\python-mini-projects\\semanticclustering\\venv\\lib\\site-packages (from sympy->torch>=1.6.0->sentence-transformers) (1.3.0)\n"
     ]
    },
    {
     "name": "stderr",
     "output_type": "stream",
     "text": [
      "\n",
      "[notice] A new release of pip is available: 23.0.1 -> 23.2.1\n",
      "[notice] To update, run: python.exe -m pip install --upgrade pip\n"
     ]
    },
    {
     "name": "stdout",
     "output_type": "stream",
     "text": [
      "Requirement already satisfied: sklearn in d:\\development\\python-mini-projects\\semanticclustering\\venv\\lib\\site-packages (0.0.post5)\n"
     ]
    },
    {
     "name": "stderr",
     "output_type": "stream",
     "text": [
      "\n",
      "[notice] A new release of pip is available: 23.0.1 -> 23.2.1\n",
      "[notice] To update, run: python.exe -m pip install --upgrade pip\n"
     ]
    },
    {
     "name": "stdout",
     "output_type": "stream",
     "text": [
      "Requirement already satisfied: plotly in d:\\development\\python-mini-projects\\semanticclustering\\venv\\lib\\site-packages (5.15.0)\n",
      "Requirement already satisfied: tenacity>=6.2.0 in d:\\development\\python-mini-projects\\semanticclustering\\venv\\lib\\site-packages (from plotly) (8.2.2)\n",
      "Requirement already satisfied: packaging in d:\\development\\python-mini-projects\\semanticclustering\\venv\\lib\\site-packages (from plotly) (23.1)\n"
     ]
    },
    {
     "name": "stderr",
     "output_type": "stream",
     "text": [
      "\n",
      "[notice] A new release of pip is available: 23.0.1 -> 23.2.1\n",
      "[notice] To update, run: python.exe -m pip install --upgrade pip\n",
      "\n",
      "[notice] A new release of pip is available: 23.0.1 -> 23.2.1\n",
      "[notice] To update, run: python.exe -m pip install --upgrade pip\n"
     ]
    },
    {
     "name": "stdout",
     "output_type": "stream",
     "text": [
      "Requirement already satisfied: matplotlib in d:\\development\\python-mini-projects\\semanticclustering\\venv\\lib\\site-packages (3.7.2)\n",
      "Requirement already satisfied: packaging>=20.0 in d:\\development\\python-mini-projects\\semanticclustering\\venv\\lib\\site-packages (from matplotlib) (23.1)\n",
      "Requirement already satisfied: pyparsing<3.1,>=2.3.1 in d:\\development\\python-mini-projects\\semanticclustering\\venv\\lib\\site-packages (from matplotlib) (3.0.9)\n",
      "Requirement already satisfied: contourpy>=1.0.1 in d:\\development\\python-mini-projects\\semanticclustering\\venv\\lib\\site-packages (from matplotlib) (1.1.0)\n",
      "Requirement already satisfied: importlib-resources>=3.2.0 in d:\\development\\python-mini-projects\\semanticclustering\\venv\\lib\\site-packages (from matplotlib) (6.0.0)\n",
      "Requirement already satisfied: cycler>=0.10 in d:\\development\\python-mini-projects\\semanticclustering\\venv\\lib\\site-packages (from matplotlib) (0.11.0)\n",
      "Requirement already satisfied: kiwisolver>=1.0.1 in d:\\development\\python-mini-projects\\semanticclustering\\venv\\lib\\site-packages (from matplotlib) (1.4.4)\n",
      "Requirement already satisfied: numpy>=1.20 in d:\\development\\python-mini-projects\\semanticclustering\\venv\\lib\\site-packages (from matplotlib) (1.24.4)\n",
      "Requirement already satisfied: pillow>=6.2.0 in d:\\development\\python-mini-projects\\semanticclustering\\venv\\lib\\site-packages (from matplotlib) (10.0.0)\n",
      "Requirement already satisfied: python-dateutil>=2.7 in d:\\development\\python-mini-projects\\semanticclustering\\venv\\lib\\site-packages (from matplotlib) (2.8.2)\n",
      "Requirement already satisfied: fonttools>=4.22.0 in d:\\development\\python-mini-projects\\semanticclustering\\venv\\lib\\site-packages (from matplotlib) (4.41.1)\n",
      "Requirement already satisfied: zipp>=3.1.0 in d:\\development\\python-mini-projects\\semanticclustering\\venv\\lib\\site-packages (from importlib-resources>=3.2.0->matplotlib) (3.16.1)\n",
      "Requirement already satisfied: six>=1.5 in d:\\development\\python-mini-projects\\semanticclustering\\venv\\lib\\site-packages (from python-dateutil>=2.7->matplotlib) (1.16.0)\n"
     ]
    },
    {
     "name": "stderr",
     "output_type": "stream",
     "text": [
      "\n",
      "[notice] A new release of pip is available: 23.0.1 -> 23.2.1\n",
      "[notice] To update, run: python.exe -m pip install --upgrade pip\n"
     ]
    }
   ],
   "source": [
    "!pip install -U sentence-transformers\n",
    "!pip install sklearn\n",
    "!pip install plotly\n",
    "!pip install nbformat>=4.2.0\n",
    "!pip install matplotlib"
   ]
  },
  {
   "cell_type": "markdown",
   "metadata": {},
   "source": [
    "# Import Dependencies"
   ]
  },
  {
   "cell_type": "code",
   "execution_count": 2,
   "metadata": {},
   "outputs": [
    {
     "name": "stderr",
     "output_type": "stream",
     "text": [
      "d:\\Development\\Python-Mini-Projects\\SemanticClustering\\venv\\lib\\site-packages\\tqdm\\auto.py:21: TqdmWarning: IProgress not found. Please update jupyter and ipywidgets. See https://ipywidgets.readthedocs.io/en/stable/user_install.html\n",
      "  from .autonotebook import tqdm as notebook_tqdm\n"
     ]
    }
   ],
   "source": [
    "import pandas as pd\n",
    "import numpy as np\n",
    "import plotly.graph_objects as go\n",
    "import pickle\n",
    "import matplotlib.pyplot as plt\n",
    "from sentence_transformers import SentenceTransformer, util\n",
    "from sklearn.neighbors import NearestNeighbors\n",
    "from sklearn.cluster import DBSCAN"
   ]
  },
  {
   "cell_type": "markdown",
   "metadata": {},
   "source": [
    "# Data Cleaning"
   ]
  },
  {
   "cell_type": "code",
   "execution_count": 43,
   "metadata": {},
   "outputs": [],
   "source": [
    "def data_cleaning(input_file, output_file):\n",
    "    list_data = [\"<br/>\",\"Hi team -\",\"hi team -\",\"Hello-\",\"Hi Team,\",\"Hi team,\",\"Hello,\",\"Hi Team:\",\"Hello Team,\",\"Hi,\",\"Hi team-\",\n",
    "                 \"Hi Team-\",\"Hi Team.\",\"Hello,\",\"hello,\",\"Hi Team\",\"hi team\",\"hello team\",\"Hello!\",\"team,\",\"Team\",\"====\",\"HI\",\"Hi team\"]\n",
    "\n",
    "    with open(input_file, 'r') as file:\n",
    "        data = file.read()\n",
    "        for l_data in list_data:\n",
    "            data = data.replace(l_data, \"\")\n",
    "\n",
    "    # Opening our text file in write only mode to write the replaced content\n",
    "    with open(output_file, 'w') as file:\n",
    "        file.write(data)\n",
    "\n",
    "    df = pd.read_csv(output_file)\n",
    "    # Renaming the column\n",
    "    df.rename(columns={\"First Comment\": \"comments\"}, inplace=True)\n",
    "    # Removing blank rows\n",
    "    df.dropna(inplace=True)\n",
    "    df.reset_index(drop=True, inplace=True)\n",
    "    df.to_csv(output_file, index=False)\n",
    "    number_of_rows_input_file = pd.read_csv(input_file).shape[0]\n",
    "    number_of_rows_output_file = pd.read_csv(output_file).shape[0]\n",
    "    print(f\"Number of rows in {input_file} = {number_of_rows_input_file}\\n\" +\n",
    "          f\"Number of rows in {output_file} = {number_of_rows_output_file}\\n\" +\n",
    "          f\"Number of rows dropped = {number_of_rows_input_file - number_of_rows_output_file}\\n\")\n",
    "    print(f\"Data cleaning complete. Cleaned data is stored in {output_file}\")"
   ]
  },
  {
   "cell_type": "code",
   "execution_count": 44,
   "metadata": {},
   "outputs": [
    {
     "name": "stdout",
     "output_type": "stream",
     "text": [
      "Number of rows in ./Data/Raw_Dataset.csv = 8665\n",
      "Number of rows in ./Data/Cleaned_Dataset.csv = 8620\n",
      "Number of rows dropped = 45\n",
      "\n",
      "Data cleaning complete. Cleaned data is stored in ./Data/Cleaned_Dataset.csv\n"
     ]
    }
   ],
   "source": [
    "data_cleaning(\"./Data/Raw_Dataset.csv\", \"./Data/Cleaned_Dataset.csv\")"
   ]
  },
  {
   "cell_type": "code",
   "execution_count": 15,
   "metadata": {},
   "outputs": [],
   "source": [
    "# Add id column to the dataset (Extra)\n",
    "\n",
    "df_raw = pd.read_csv(\"./Data/Cleaned_Dataset.csv\")\n",
    "\n",
    "# Add the 'id' column with incrementing numbers starting from 1\n",
    "df_raw['id'] = range(1, len(df_raw) + 1)\n",
    "\n",
    "# Save the updated dataset back to CSV\n",
    "df_raw.to_csv(\"./Data/Cleaned_Dataset.csv\", index=False)"
   ]
  },
  {
   "cell_type": "code",
   "execution_count": 6,
   "metadata": {},
   "outputs": [],
   "source": [
    "# Converting the cleaned dataset into list\n",
    "\n",
    "df1 = pd.read_csv(\"./Data/Cleaned_Dataset.csv\")\n",
    "comments_list = df1.comments.tolist()"
   ]
  },
  {
   "cell_type": "markdown",
   "metadata": {},
   "source": [
    "# Model to create, store, and read embeddings"
   ]
  },
  {
   "cell_type": "code",
   "execution_count": 7,
   "metadata": {},
   "outputs": [],
   "source": [
    "def create_and_store_embeddings() -> np.ndarray:\n",
    "    model = SentenceTransformer('all-MiniLM-L6-v2')\n",
    "    # model = SentenceTransformer('distilbert-base-nli-stsb-quora-ranking') # Use for different results\n",
    "    embeddings = model.encode(comments_list, show_progress_bar=True)\n",
    "    # Normalize the embeddings to unit length\n",
    "    embeddings = embeddings /  np.linalg.norm(embeddings, axis=1, keepdims=True)\n",
    "    return embeddings"
   ]
  },
  {
   "cell_type": "code",
   "execution_count": 8,
   "metadata": {},
   "outputs": [
    {
     "name": "stderr",
     "output_type": "stream",
     "text": [
      "Batches: 100%|██████████| 270/270 [04:31<00:00,  1.01s/it]\n"
     ]
    }
   ],
   "source": [
    "embeddings = create_and_store_embeddings()"
   ]
  },
  {
   "cell_type": "code",
   "execution_count": 9,
   "metadata": {},
   "outputs": [],
   "source": [
    "# Store sentences and embeddings to disc\n",
    "with open(\"./Data/embeddings.pkl\", \"wb\") as fOut:\n",
    "    pickle.dump({'sentences': comments_list, 'embeddings': embeddings}, fOut, protocol=pickle.HIGHEST_PROTOCOL)"
   ]
  },
  {
   "cell_type": "code",
   "execution_count": 10,
   "metadata": {},
   "outputs": [],
   "source": [
    "#Load sentences & embeddings from disc\n",
    "embeddings = np.empty_like(embeddings)\n",
    "with open(\"./Data/embeddings.pkl\", \"rb\") as fIn:\n",
    "    stored_data = pickle.load(fIn)\n",
    "    stored_sentences = stored_data['sentences']\n",
    "    embeddings = stored_data['embeddings']"
   ]
  },
  {
   "cell_type": "markdown",
   "metadata": {},
   "source": [
    "# Detect Clusters"
   ]
  },
  {
   "cell_type": "code",
   "execution_count": 11,
   "metadata": {},
   "outputs": [
    {
     "data": {
      "image/png": "[encoded data removed]",
      "text/plain": [
       "<Figure size 640x480 with 1 Axes>"
      ]
     },
     "metadata": {},
     "output_type": "display_data"
    }
   ],
   "source": [
    "def find_optimal_eps(embeddings, k=4):\n",
    "    \"\"\"\n",
    "    1) Compute the k-distance graph: Calculate the distance between each point and its kth nearest neighbor (e.g., k=4).\n",
    "    2) Sort the distances in ascending order and plot them.\n",
    "    3) Look for the \"elbow point\" in the plot, which is the point where the curve starts to bend or the rate of change in distances decreases significantly.\n",
    "    4) Use the distance value at the elbow point as the eps value for DBSCAN.\n",
    "    \"\"\"\n",
    "    neighbors = NearestNeighbors(n_neighbors=k+1, metric='cosine')\n",
    "    neighbors_fit = neighbors.fit(embeddings)\n",
    "    distances, _ = neighbors_fit.kneighbors(embeddings)\n",
    "    sorted_distances = np.sort(distances[:, -1], axis=0)\n",
    "    \n",
    "    plt.plot(sorted_distances)\n",
    "    plt.xlabel('Index')\n",
    "    plt.ylabel(f'{k}-Distance')\n",
    "    plt.title(f'Elbow Method for Optimal eps')\n",
    "    plt.show()\n",
    "\n",
    "# Call the function to visualize the elbow point and identify the optimal eps\n",
    "find_optimal_eps(embeddings, k=4)\n"
   ]
  },
  {
   "cell_type": "code",
   "execution_count": 12,
   "metadata": {},
   "outputs": [],
   "source": [
    "def detect_clusters_dbscan(embeddings, eps=0.2, min_samples=10):\n",
    "    \"\"\"\n",
    "    1) The eps parameter controls the maximum distance between two points for them to be considered part of the same neighborhood (i.e., cluster).\n",
    "    2) The min_samples parameter determines the minimum number of points required to form a dense region, effectively determining the minimum size of a cluster.\n",
    "    \"\"\"\n",
    "    dbscan = DBSCAN(eps=eps, min_samples=min_samples, metric='cosine')\n",
    "    cluster_labels = dbscan.fit_predict(embeddings)\n",
    "    unique_communities = []\n",
    "    for label in np.unique(cluster_labels):\n",
    "        cluster_indices = np.where(cluster_labels == label)[0]\n",
    "        if len(cluster_indices) >= min_samples:\n",
    "            unique_communities.append(cluster_indices.tolist())\n",
    "    return unique_communities\n",
    "\n",
    "uniques_comm = detect_clusters_dbscan(embeddings, eps=0.3, min_samples=30)"
   ]
  },
  {
   "cell_type": "markdown",
   "metadata": {},
   "source": [
    "## Save sentences per cluster into seperate file"
   ]
  },
  {
   "cell_type": "code",
   "execution_count": 13,
   "metadata": {},
   "outputs": [],
   "source": [
    "def write_cluster_sentences_to_file(comments_list, unique_communities, df_input):\n",
    "    cluster_count = 1\n",
    "    total_sentences_in_cluster = 0\n",
    "    df_input['cluster'] = -1  # Initialize the 'cluster' column with -1 for all rows\n",
    "    for cluster in unique_communities:\n",
    "        length_of_cluster = len(cluster)\n",
    "        total_sentences_in_cluster += length_of_cluster\n",
    "        print(f\"Cluster {cluster_count} = {length_of_cluster}\")\n",
    "        for index in cluster:\n",
    "            sentence = comments_list[index]\n",
    "            id_value = df_input.iloc[index]['id']\n",
    "            df_input.at[index, 'cluster'] = cluster_count  # Assign cluster number to the 'cluster' column\n",
    "        cluster_count += 1\n",
    "\n",
    "    print(f\"Total sentences inside all clusters = {total_sentences_in_cluster}\")\n",
    "\n",
    "    # Export the updated DataFrame to a CSV file\n",
    "    df_input.to_csv(\"./Output/cluster_number_data.csv\", index=False)\n"
   ]
  },
  {
   "cell_type": "code",
   "execution_count": 14,
   "metadata": {},
   "outputs": [
    {
     "name": "stdout",
     "output_type": "stream",
     "text": [
      "Cluster 1 = 1525\n",
      "Cluster 2 = 6061\n",
      "Cluster 3 = 82\n",
      "Cluster 4 = 69\n",
      "Cluster 5 = 287\n",
      "Cluster 6 = 265\n",
      "Cluster 7 = 142\n",
      "Cluster 8 = 47\n",
      "Cluster 9 = 56\n",
      "Cluster 10 = 47\n",
      "Cluster 11 = 39\n",
      "Total sentences inside all clusters = 8620\n"
     ]
    }
   ],
   "source": [
    "write_cluster_sentences_to_file(comments_list, uniques_comm, df1)"
   ]
  },
  {
   "cell_type": "markdown",
   "metadata": {},
   "source": [
    "# Plot Clusters"
   ]
  },
  {
   "cell_type": "code",
   "execution_count": 16,
   "metadata": {},
   "outputs": [],
   "source": [
    "def plot_clusters(clusters_to_show):\n",
    "    NUM_CLUSTERS_TO_USE = len(clusters_to_show)\n",
    "    print(f\"Number of clusters to use: {NUM_CLUSTERS_TO_USE}\")\n",
    "    # if NUM_CLUSTERS_TO_USE > 20:\n",
    "    #     NUM_CLUSTERS_TO_USE = 20\n",
    "\n",
    "    sum = 0\n",
    "    for cluster in clusters_to_show[:NUM_CLUSTERS_TO_USE]:\n",
    "        sum += len(cluster)\n",
    "\n",
    "    percentages = []\n",
    "    for cluster in clusters_to_show:\n",
    "        percentages.append((len(cluster)/sum)*100.0)\n",
    "\n",
    "    labels = [f\"Cluster{i}\" for i in range(1, NUM_CLUSTERS_TO_USE)]\n",
    "    values = percentages\n",
    "\n",
    "    fig = go.Figure(data=[go.Pie(labels=labels, values=values, hole=.3)])\n",
    "    fig.update_layout(width = 720, height = 720)\n",
    "\n",
    "    return fig"
   ]
  },
  {
   "cell_type": "code",
   "execution_count": 17,
   "metadata": {},
   "outputs": [
    {
     "name": "stdout",
     "output_type": "stream",
     "text": [
      "Number of clusters to use: 11\n"
     ]
    },
    {
     "data": {
      "application/vnd.plotly.v1+json": {
       "config": {
        "plotlyServerURL": "https://plot.ly"
       },
       "data": [
        {
         "hole": 0.3,
         "labels": [
          "Cluster1",
          "Cluster2",
          "Cluster3",
          "Cluster4",
          "Cluster5",
          "Cluster6",
          "Cluster7",
          "Cluster8",
          "Cluster9",
          "Cluster10"
         ],
         "type": "pie",
         "values": [
          17.691415313225058,
          70.31322505800463,
          0.9512761020881672,
          0.8004640371229699,
          3.3294663573085845,
          3.074245939675174,
          1.6473317865429233,
          0.5452436194895591,
          0.6496519721577726,
          0.5452436194895591,
          0.45243619489559167
         ]
        }
       ],
       "layout": {
        "height": 720,
        "template": {
         "data": {
          "bar": [
           {
            "error_x": {
             "color": "#2a3f5f"
            },
            "error_y": {
             "color": "#2a3f5f"
            },
            "marker": {
             "line": {
              "color": "#E5ECF6",
              "width": 0.5
             },
             "pattern": {
              "fillmode": "overlay",
              "size": 10,
              "solidity": 0.2
             }
            },
            "type": "bar"
           }
          ],
          "barpolar": [
           {
            "marker": {
             "line": {
              "color": "#E5ECF6",
              "width": 0.5
             },
             "pattern": {
              "fillmode": "overlay",
              "size": 10,
              "solidity": 0.2
             }
            },
            "type": "barpolar"
           }
          ],
          "carpet": [
           {
            "aaxis": {
             "endlinecolor": "#2a3f5f",
             "gridcolor": "white",
             "linecolor": "white",
             "minorgridcolor": "white",
             "startlinecolor": "#2a3f5f"
            },
            "baxis": {
             "endlinecolor": "#2a3f5f",
             "gridcolor": "white",
             "linecolor": "white",
             "minorgridcolor": "white",
             "startlinecolor": "#2a3f5f"
            },
            "type": "carpet"
           }
          ],
          "choropleth": [
           {
            "colorbar": {
             "outlinewidth": 0,
             "ticks": ""
            },
            "type": "choropleth"
           }
          ],
          "contour": [
           {
            "colorbar": {
             "outlinewidth": 0,
             "ticks": ""
            },
            "colorscale": [
             [
              0,
              "#0d0887"
             ],
             [
              0.1111111111111111,
              "#46039f"
             ],
             [
              0.2222222222222222,
              "#7201a8"
             ],
             [
              0.3333333333333333,
              "#9c179e"
             ],
             [
              0.4444444444444444,
              "#bd3786"
             ],
             [
              0.5555555555555556,
              "#d8576b"
             ],
             [
              0.6666666666666666,
              "#ed7953"
             ],
             [
              0.7777777777777778,
              "#fb9f3a"
             ],
             [
              0.8888888888888888,
              "#fdca26"
             ],
             [
              1,
              "#f0f921"
             ]
            ],
            "type": "contour"
           }
          ],
          "contourcarpet": [
           {
            "colorbar": {
             "outlinewidth": 0,
             "ticks": ""
            },
            "type": "contourcarpet"
           }
          ],
          "heatmap": [
           {
            "colorbar": {
             "outlinewidth": 0,
             "ticks": ""
            },
            "colorscale": [
             [
              0,
              "#0d0887"
             ],
             [
              0.1111111111111111,
              "#46039f"
             ],
             [
              0.2222222222222222,
              "#7201a8"
             ],
             [
              0.3333333333333333,
              "#9c179e"
             ],
             [
              0.4444444444444444,
              "#bd3786"
             ],
             [
              0.5555555555555556,
              "#d8576b"
             ],
             [
              0.6666666666666666,
              "#ed7953"
             ],
             [
              0.7777777777777778,
              "#fb9f3a"
             ],
             [
              0.8888888888888888,
              "#fdca26"
             ],
             [
              1,
              "#f0f921"
             ]
            ],
            "type": "heatmap"
           }
          ],
          "heatmapgl": [
           {
            "colorbar": {
             "outlinewidth": 0,
             "ticks": ""
            },
            "colorscale": [
             [
              0,
              "#0d0887"
             ],
             [
              0.1111111111111111,
              "#46039f"
             ],
             [
              0.2222222222222222,
              "#7201a8"
             ],
             [
              0.3333333333333333,
              "#9c179e"
             ],
             [
              0.4444444444444444,
              "#bd3786"
             ],
             [
              0.5555555555555556,
              "#d8576b"
             ],
             [
              0.6666666666666666,
              "#ed7953"
             ],
             [
              0.7777777777777778,
              "#fb9f3a"
             ],
             [
              0.8888888888888888,
              "#fdca26"
             ],
             [
              1,
              "#f0f921"
             ]
            ],
            "type": "heatmapgl"
           }
          ],
          "histogram": [
           {
            "marker": {
             "pattern": {
              "fillmode": "overlay",
              "size": 10,
              "solidity": 0.2
             }
            },
            "type": "histogram"
           }
          ],
          "histogram2d": [
           {
            "colorbar": {
             "outlinewidth": 0,
             "ticks": ""
            },
            "colorscale": [
             [
              0,
              "#0d0887"
             ],
             [
              0.1111111111111111,
              "#46039f"
             ],
             [
              0.2222222222222222,
              "#7201a8"
             ],
             [
              0.3333333333333333,
              "#9c179e"
             ],
             [
              0.4444444444444444,
              "#bd3786"
             ],
             [
              0.5555555555555556,
              "#d8576b"
             ],
             [
              0.6666666666666666,
              "#ed7953"
             ],
             [
              0.7777777777777778,
              "#fb9f3a"
             ],
             [
              0.8888888888888888,
              "#fdca26"
             ],
             [
              1,
              "#f0f921"
             ]
            ],
            "type": "histogram2d"
           }
          ],
          "histogram2dcontour": [
           {
            "colorbar": {
             "outlinewidth": 0,
             "ticks": ""
            },
            "colorscale": [
             [
              0,
              "#0d0887"
             ],
             [
              0.1111111111111111,
              "#46039f"
             ],
             [
              0.2222222222222222,
              "#7201a8"
             ],
             [
              0.3333333333333333,
              "#9c179e"
             ],
             [
              0.4444444444444444,
              "#bd3786"
             ],
             [
              0.5555555555555556,
              "#d8576b"
             ],
             [
              0.6666666666666666,
              "#ed7953"
             ],
             [
              0.7777777777777778,
              "#fb9f3a"
             ],
             [
              0.8888888888888888,
              "#fdca26"
             ],
             [
              1,
              "#f0f921"
             ]
            ],
            "type": "histogram2dcontour"
           }
          ],
          "mesh3d": [
           {
            "colorbar": {
             "outlinewidth": 0,
             "ticks": ""
            },
            "type": "mesh3d"
           }
          ],
          "parcoords": [
           {
            "line": {
             "colorbar": {
              "outlinewidth": 0,
              "ticks": ""
             }
            },
            "type": "parcoords"
           }
          ],
          "pie": [
           {
            "automargin": true,
            "type": "pie"
           }
          ],
          "scatter": [
           {
            "fillpattern": {
             "fillmode": "overlay",
             "size": 10,
             "solidity": 0.2
            },
            "type": "scatter"
           }
          ],
          "scatter3d": [
           {
            "line": {
             "colorbar": {
              "outlinewidth": 0,
              "ticks": ""
             }
            },
            "marker": {
             "colorbar": {
              "outlinewidth": 0,
              "ticks": ""
             }
            },
            "type": "scatter3d"
           }
          ],
          "scattercarpet": [
           {
            "marker": {
             "colorbar": {
              "outlinewidth": 0,
              "ticks": ""
             }
            },
            "type": "scattercarpet"
           }
          ],
          "scattergeo": [
           {
            "marker": {
             "colorbar": {
              "outlinewidth": 0,
              "ticks": ""
             }
            },
            "type": "scattergeo"
           }
          ],
          "scattergl": [
           {
            "marker": {
             "colorbar": {
              "outlinewidth": 0,
              "ticks": ""
             }
            },
            "type": "scattergl"
           }
          ],
          "scattermapbox": [
           {
            "marker": {
             "colorbar": {
              "outlinewidth": 0,
              "ticks": ""
             }
            },
            "type": "scattermapbox"
           }
          ],
          "scatterpolar": [
           {
            "marker": {
             "colorbar": {
              "outlinewidth": 0,
              "ticks": ""
             }
            },
            "type": "scatterpolar"
           }
          ],
          "scatterpolargl": [
           {
            "marker": {
             "colorbar": {
              "outlinewidth": 0,
              "ticks": ""
             }
            },
            "type": "scatterpolargl"
           }
          ],
          "scatterternary": [
           {
            "marker": {
             "colorbar": {
              "outlinewidth": 0,
              "ticks": ""
             }
            },
            "type": "scatterternary"
           }
          ],
          "surface": [
           {
            "colorbar": {
             "outlinewidth": 0,
             "ticks": ""
            },
            "colorscale": [
             [
              0,
              "#0d0887"
             ],
             [
              0.1111111111111111,
              "#46039f"
             ],
             [
              0.2222222222222222,
              "#7201a8"
             ],
             [
              0.3333333333333333,
              "#9c179e"
             ],
             [
              0.4444444444444444,
              "#bd3786"
             ],
             [
              0.5555555555555556,
              "#d8576b"
             ],
             [
              0.6666666666666666,
              "#ed7953"
             ],
             [
              0.7777777777777778,
              "#fb9f3a"
             ],
             [
              0.8888888888888888,
              "#fdca26"
             ],
             [
              1,
              "#f0f921"
             ]
            ],
            "type": "surface"
           }
          ],
          "table": [
           {
            "cells": {
             "fill": {
              "color": "#EBF0F8"
             },
             "line": {
              "color": "white"
             }
            },
            "header": {
             "fill": {
              "color": "#C8D4E3"
             },
             "line": {
              "color": "white"
             }
            },
            "type": "table"
           }
          ]
         },
         "layout": {
          "annotationdefaults": {
           "arrowcolor": "#2a3f5f",
           "arrowhead": 0,
           "arrowwidth": 1
          },
          "autotypenumbers": "strict",
          "coloraxis": {
           "colorbar": {
            "outlinewidth": 0,
            "ticks": ""
           }
          },
          "colorscale": {
           "diverging": [
            [
             0,
             "#8e0152"
            ],
            [
             0.1,
             "#c51b7d"
            ],
            [
             0.2,
             "#de77ae"
            ],
            [
             0.3,
             "#f1b6da"
            ],
            [
             0.4,
             "#fde0ef"
            ],
            [
             0.5,
             "#f7f7f7"
            ],
            [
             0.6,
             "#e6f5d0"
            ],
            [
             0.7,
             "#b8e186"
            ],
            [
             0.8,
             "#7fbc41"
            ],
            [
             0.9,
             "#4d9221"
            ],
            [
             1,
             "#276419"
            ]
           ],
           "sequential": [
            [
             0,
             "#0d0887"
            ],
            [
             0.1111111111111111,
             "#46039f"
            ],
            [
             0.2222222222222222,
             "#7201a8"
            ],
            [
             0.3333333333333333,
             "#9c179e"
            ],
            [
             0.4444444444444444,
             "#bd3786"
            ],
            [
             0.5555555555555556,
             "#d8576b"
            ],
            [
             0.6666666666666666,
             "#ed7953"
            ],
            [
             0.7777777777777778,
             "#fb9f3a"
            ],
            [
             0.8888888888888888,
             "#fdca26"
            ],
            [
             1,
             "#f0f921"
            ]
           ],
           "sequentialminus": [
            [
             0,
             "#0d0887"
            ],
            [
             0.1111111111111111,
             "#46039f"
            ],
            [
             0.2222222222222222,
             "#7201a8"
            ],
            [
             0.3333333333333333,
             "#9c179e"
            ],
            [
             0.4444444444444444,
             "#bd3786"
            ],
            [
             0.5555555555555556,
             "#d8576b"
            ],
            [
             0.6666666666666666,
             "#ed7953"
            ],
            [
             0.7777777777777778,
             "#fb9f3a"
            ],
            [
             0.8888888888888888,
             "#fdca26"
            ],
            [
             1,
             "#f0f921"
            ]
           ]
          },
          "colorway": [
           "#636efa",
           "#EF553B",
           "#00cc96",
           "#ab63fa",
           "#FFA15A",
           "#19d3f3",
           "#FF6692",
           "#B6E880",
           "#FF97FF",
           "#FECB52"
          ],
          "font": {
           "color": "#2a3f5f"
          },
          "geo": {
           "bgcolor": "white",
           "lakecolor": "white",
           "landcolor": "#E5ECF6",
           "showlakes": true,
           "showland": true,
           "subunitcolor": "white"
          },
          "hoverlabel": {
           "align": "left"
          },
          "hovermode": "closest",
          "mapbox": {
           "style": "light"
          },
          "paper_bgcolor": "white",
          "plot_bgcolor": "#E5ECF6",
          "polar": {
           "angularaxis": {
            "gridcolor": "white",
            "linecolor": "white",
            "ticks": ""
           },
           "bgcolor": "#E5ECF6",
           "radialaxis": {
            "gridcolor": "white",
            "linecolor": "white",
            "ticks": ""
           }
          },
          "scene": {
           "xaxis": {
            "backgroundcolor": "#E5ECF6",
            "gridcolor": "white",
            "gridwidth": 2,
            "linecolor": "white",
            "showbackground": true,
            "ticks": "",
            "zerolinecolor": "white"
           },
           "yaxis": {
            "backgroundcolor": "#E5ECF6",
            "gridcolor": "white",
            "gridwidth": 2,
            "linecolor": "white",
            "showbackground": true,
            "ticks": "",
            "zerolinecolor": "white"
           },
           "zaxis": {
            "backgroundcolor": "#E5ECF6",
            "gridcolor": "white",
            "gridwidth": 2,
            "linecolor": "white",
            "showbackground": true,
            "ticks": "",
            "zerolinecolor": "white"
           }
          },
          "shapedefaults": {
           "line": {
            "color": "#2a3f5f"
           }
          },
          "ternary": {
           "aaxis": {
            "gridcolor": "white",
            "linecolor": "white",
            "ticks": ""
           },
           "baxis": {
            "gridcolor": "white",
            "linecolor": "white",
            "ticks": ""
           },
           "bgcolor": "#E5ECF6",
           "caxis": {
            "gridcolor": "white",
            "linecolor": "white",
            "ticks": ""
           }
          },
          "title": {
           "x": 0.05
          },
          "xaxis": {
           "automargin": true,
           "gridcolor": "white",
           "linecolor": "white",
           "ticks": "",
           "title": {
            "standoff": 15
           },
           "zerolinecolor": "white",
           "zerolinewidth": 2
          },
          "yaxis": {
           "automargin": true,
           "gridcolor": "white",
           "linecolor": "white",
           "ticks": "",
           "title": {
            "standoff": 15
           },
           "zerolinecolor": "white",
           "zerolinewidth": 2
          }
         }
        },
        "width": 720
       }
      }
     },
     "metadata": {},
     "output_type": "display_data"
    }
   ],
   "source": [
    "# Plot the created clusters in pie chart\n",
    "\n",
    "plot_clusters(uniques_comm)"
   ]
  },
  {
   "cell_type": "code",
   "execution_count": null,
   "metadata": {},
   "outputs": [],
   "source": []
  }
 ],
 "metadata": {
  "kernelspec": {
   "display_name": "venv",
   "language": "python",
   "name": "python3"
  },
  "language_info": {
   "codemirror_mode": {
    "name": "ipython",
    "version": 3
   },
   "file_extension": ".py",
   "mimetype": "text/x-python",
   "name": "python",
   "nbconvert_exporter": "python",
   "pygments_lexer": "ipython3",
   "version": "3.8.5"
  },
  "orig_nbformat": 4
 },
 "nbformat": 4,
 "nbformat_minor": 2
}
