{
 "cells": [
  {
   "cell_type": "code",
   "execution_count": 2,
   "metadata": {},
   "outputs": [],
   "source": [
    "import pytesseract\n",
    "from PIL import Image\n",
    "import cv2\n",
    "import numpy as np\n",
    "import requests"
   ]
  },
  {
   "cell_type": "code",
   "execution_count": 3,
   "metadata": {},
   "outputs": [],
   "source": [
    "# Specify the path to tesseract executable if it's not in your PATH\n",
    "pytesseract.pytesseract.tesseract_cmd = r'C:\\\\Program Files\\\\Tesseract-OCR\\\\tesseract.exe'  # Adjust based on your installation"
   ]
  },
  {
   "cell_type": "code",
   "execution_count": 10,
   "metadata": {},
   "outputs": [],
   "source": [
    "# Load the image using OpenCV (or Pillow if you prefer)\n",
    "# image = cv2.imread('DMAA-093-24.png')\n",
    "\n",
    "# URL of the image\n",
    "url = \"https://platinum-24bucket.s3.ap-southeast-1.amazonaws.com/kkshoppy/2024/12/UzveF02909.png\"\n",
    "\n",
    "# Fetch the image using requests\n",
    "response = requests.get(url)\n",
    "\n",
    "# Convert the image to a numpy array\n",
    "image_array = np.asarray(bytearray(response.content), dtype=np.uint8)\n",
    "\n",
    "# Decode the image into an OpenCV format\n",
    "image = cv2.imdecode(image_array, cv2.IMREAD_COLOR)"
   ]
  },
  {
   "cell_type": "code",
   "execution_count": 11,
   "metadata": {},
   "outputs": [],
   "source": [
    "# Convert to grayscale (optional but often helps with OCR accuracy)\n",
    "gray_image = cv2.cvtColor(image, cv2.COLOR_BGR2GRAY)\n",
    "\n",
    "# Perform OCR on the image using the Korean language (kor)\n",
    "custom_oem_psm_config = r'--oem 3 --psm 6'  # You can adjust these parameters as needed"
   ]
  },
  {
   "cell_type": "code",
   "execution_count": 12,
   "metadata": {},
   "outputs": [
    {
     "name": "stdout",
     "output_type": "stream",
     "text": [
      "Extracted Text:\n",
      "24\n",
      "오후 3시가 넘은 시각에 숙제를 시작했을 때 시계의 시침\n",
      "과 분침이 일치하고 있었고, 오후 4시 전에 숙제를 끝냈을\n",
      "때는 시침과 분침이 180\"를 이루고 있었다. 숙제를 하는\n",
      "데 걸린 시간은?\n",
      "\n",
      "180                260                280\n",
      "03\\분 _ 6@\\분  @쑤분\n",
      "\n",
      "360                540\n",
      "@33\\분  6@포분\n",
      "\n"
     ]
    }
   ],
   "source": [
    "# Extract text from the image\n",
    "text = pytesseract.image_to_string(gray_image, lang='kor', config=custom_oem_psm_config)\n",
    "\n",
    "# Print the result\n",
    "print(\"Extracted Text:\")\n",
    "print(text)"
   ]
  },
  {
   "cell_type": "code",
   "execution_count": null,
   "metadata": {},
   "outputs": [],
   "source": []
  }
 ],
 "metadata": {
  "kernelspec": {
   "display_name": ".venv",
   "language": "python",
   "name": "python3"
  },
  "language_info": {
   "codemirror_mode": {
    "name": "ipython",
    "version": 3
   },
   "file_extension": ".py",
   "mimetype": "text/x-python",
   "name": "python",
   "nbconvert_exporter": "python",
   "pygments_lexer": "ipython3",
   "version": "3.8.5"
  }
 },
 "nbformat": 4,
 "nbformat_minor": 2
}
